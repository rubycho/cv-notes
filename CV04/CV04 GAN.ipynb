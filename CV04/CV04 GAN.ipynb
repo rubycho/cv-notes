{
  "nbformat": 4,
  "nbformat_minor": 0,
  "metadata": {
    "colab": {
      "name": "CV04 GAN.ipynb",
      "provenance": [],
      "collapsed_sections": [],
      "authorship_tag": "ABX9TyPZFk67xf0SENgE4KmmVN5S",
      "include_colab_link": true
    },
    "kernelspec": {
      "name": "python3",
      "display_name": "Python 3"
    },
    "accelerator": "GPU"
  },
  "cells": [
    {
      "cell_type": "markdown",
      "metadata": {
        "id": "view-in-github",
        "colab_type": "text"
      },
      "source": [
        "<a href=\"https://colab.research.google.com/github/rubycho/cv-notes/blob/master/CV04/CV04%20GAN.ipynb\" target=\"_parent\"><img src=\"https://colab.research.google.com/assets/colab-badge.svg\" alt=\"Open In Colab\"/></a>"
      ]
    },
    {
      "cell_type": "markdown",
      "metadata": {
        "id": "ayRup9zIgdT4",
        "colab_type": "text"
      },
      "source": [
        "## GAN (Generative Adversarial Network)\n",
        "\n",
        "Let's design a GAN with keras.\n",
        "\n",
        "We will use Fashion MNIST dataset.\n",
        "- Generator will generate Fashion MNIST-like image.\n",
        "- Discriminator will discriminate whether the image is real or not."
      ]
    },
    {
      "cell_type": "markdown",
      "metadata": {
        "id": "iZO1MXMWg2ff",
        "colab_type": "text"
      },
      "source": [
        "### Prepare fashion MNIST dataset"
      ]
    },
    {
      "cell_type": "code",
      "metadata": {
        "id": "08TYhlwOgUeG",
        "colab_type": "code",
        "colab": {
          "base_uri": "https://localhost:8080/",
          "height": 151
        },
        "outputId": "85891c22-e581-489a-fc6f-d62890333528"
      },
      "source": [
        "import numpy as np\n",
        "\n",
        "from tensorflow.keras.datasets import fashion_mnist\n",
        "\n",
        "\n",
        "(x_train, y_train), _ = fashion_mnist.load_data()\n",
        "\n",
        "# select images of specific object; 1 = trousers\n",
        "y_class = 1\n",
        "x_train = x_train[np.where(y_train == y_class)[0]]\n",
        "\n",
        "# resize as [-1, 1]\n",
        "x_train = (np.float32(x_train) - 127.5) / 127.5"
      ],
      "execution_count": 1,
      "outputs": [
        {
          "output_type": "stream",
          "text": [
            "Downloading data from https://storage.googleapis.com/tensorflow/tf-keras-datasets/train-labels-idx1-ubyte.gz\n",
            "32768/29515 [=================================] - 0s 0us/step\n",
            "Downloading data from https://storage.googleapis.com/tensorflow/tf-keras-datasets/train-images-idx3-ubyte.gz\n",
            "26427392/26421880 [==============================] - 0s 0us/step\n",
            "Downloading data from https://storage.googleapis.com/tensorflow/tf-keras-datasets/t10k-labels-idx1-ubyte.gz\n",
            "8192/5148 [===============================================] - 0s 0us/step\n",
            "Downloading data from https://storage.googleapis.com/tensorflow/tf-keras-datasets/t10k-images-idx3-ubyte.gz\n",
            "4423680/4422102 [==============================] - 0s 0us/step\n"
          ],
          "name": "stdout"
        }
      ]
    },
    {
      "cell_type": "code",
      "metadata": {
        "id": "5SDtz1Zbiw9n",
        "colab_type": "code",
        "colab": {
          "base_uri": "https://localhost:8080/",
          "height": 34
        },
        "outputId": "07652973-6084-4049-fb54-a237f2f0fbe5"
      },
      "source": [
        "print(x_train[0].shape)"
      ],
      "execution_count": 2,
      "outputs": [
        {
          "output_type": "stream",
          "text": [
            "(28, 28)\n"
          ],
          "name": "stdout"
        }
      ]
    },
    {
      "cell_type": "markdown",
      "metadata": {
        "id": "EtIu0J1ihR7Z",
        "colab_type": "text"
      },
      "source": [
        "### Build Generator\n",
        "\n",
        "We will set latent space as R^64."
      ]
    },
    {
      "cell_type": "code",
      "metadata": {
        "id": "ma1IoWn3gcP_",
        "colab_type": "code",
        "colab": {
          "base_uri": "https://localhost:8080/",
          "height": 353
        },
        "outputId": "e4d5aa05-e656-409e-9fc8-1c5ef13406ec"
      },
      "source": [
        "from tensorflow.keras.models import Model, Sequential\n",
        "from tensorflow.keras.layers import Input, Dense, Reshape, Flatten\n",
        "\n",
        "def build_generator():\n",
        "  \"\"\"\n",
        "  latent vector (64,) => image (28, 28)\n",
        "  apply tanh on last activation, cause we normalized the x_train.\n",
        "  \"\"\"\n",
        "\n",
        "  i = Input(shape=(64,))\n",
        "  x = Dense(128, activation='relu')(i)\n",
        "  x = Dense(256, activation='relu')(x)\n",
        "  x = Dense(512, activation='relu')(x)\n",
        "  x = Dense(28*28, activation='tanh')(x)\n",
        "  x = Reshape((28, 28))(x)\n",
        "\n",
        "  return Model(inputs=i, outputs=x)\n",
        "\n",
        "gen = build_generator()\n",
        "gen.summary()"
      ],
      "execution_count": 3,
      "outputs": [
        {
          "output_type": "stream",
          "text": [
            "Model: \"functional_1\"\n",
            "_________________________________________________________________\n",
            "Layer (type)                 Output Shape              Param #   \n",
            "=================================================================\n",
            "input_1 (InputLayer)         [(None, 64)]              0         \n",
            "_________________________________________________________________\n",
            "dense (Dense)                (None, 128)               8320      \n",
            "_________________________________________________________________\n",
            "dense_1 (Dense)              (None, 256)               33024     \n",
            "_________________________________________________________________\n",
            "dense_2 (Dense)              (None, 512)               131584    \n",
            "_________________________________________________________________\n",
            "dense_3 (Dense)              (None, 784)               402192    \n",
            "_________________________________________________________________\n",
            "reshape (Reshape)            (None, 28, 28)            0         \n",
            "=================================================================\n",
            "Total params: 575,120\n",
            "Trainable params: 575,120\n",
            "Non-trainable params: 0\n",
            "_________________________________________________________________\n"
          ],
          "name": "stdout"
        }
      ]
    },
    {
      "cell_type": "markdown",
      "metadata": {
        "id": "oQEk2k1Piwk2",
        "colab_type": "text"
      },
      "source": [
        "### Build Discriminator"
      ]
    },
    {
      "cell_type": "code",
      "metadata": {
        "id": "KTU525Wujl0v",
        "colab_type": "code",
        "colab": {
          "base_uri": "https://localhost:8080/",
          "height": 353
        },
        "outputId": "85ec2aff-3786-49ab-f7cc-1494cf95ada4"
      },
      "source": [
        "def build_discriminator():\n",
        "  \"\"\"\n",
        "  image (28, 28) => 0 or 1\n",
        "  \"\"\"\n",
        "\n",
        "  i = Input(shape=(28,28))\n",
        "  x = Flatten()(i)\n",
        "  x = Dense(128, activation='relu')(x)\n",
        "  x = Dense(256, activation='relu')(x)\n",
        "  x = Dense(512, activation='relu')(x)\n",
        "  x = Dense(1, activation='sigmoid')(x)\n",
        "\n",
        "  return Model(inputs=i, outputs=x)\n",
        "\n",
        "dis = build_discriminator()\n",
        "dis.summary()"
      ],
      "execution_count": 4,
      "outputs": [
        {
          "output_type": "stream",
          "text": [
            "Model: \"functional_3\"\n",
            "_________________________________________________________________\n",
            "Layer (type)                 Output Shape              Param #   \n",
            "=================================================================\n",
            "input_2 (InputLayer)         [(None, 28, 28)]          0         \n",
            "_________________________________________________________________\n",
            "flatten (Flatten)            (None, 784)               0         \n",
            "_________________________________________________________________\n",
            "dense_4 (Dense)              (None, 128)               100480    \n",
            "_________________________________________________________________\n",
            "dense_5 (Dense)              (None, 256)               33024     \n",
            "_________________________________________________________________\n",
            "dense_6 (Dense)              (None, 512)               131584    \n",
            "_________________________________________________________________\n",
            "dense_7 (Dense)              (None, 1)                 513       \n",
            "=================================================================\n",
            "Total params: 265,601\n",
            "Trainable params: 265,601\n",
            "Non-trainable params: 0\n",
            "_________________________________________________________________\n"
          ],
          "name": "stdout"
        }
      ]
    },
    {
      "cell_type": "markdown",
      "metadata": {
        "id": "hp5DZQxqi-T-",
        "colab_type": "text"
      },
      "source": [
        "### Compile model\n",
        "\n",
        "Note that discriminator trainable is set to False, after `compile` of discriminator."
      ]
    },
    {
      "cell_type": "code",
      "metadata": {
        "id": "0owwN7d5kQMM",
        "colab_type": "code",
        "colab": {
          "base_uri": "https://localhost:8080/",
          "height": 218
        },
        "outputId": "332a5625-610e-47ba-ca33-996034a07bef"
      },
      "source": [
        "dis.compile(optimizer='adam', loss='binary_crossentropy')\n",
        "dis.trainable = False\n",
        "\n",
        "gen_dis = Sequential([gen, dis])\n",
        "gen_dis.summary()\n",
        "\n",
        "gen_dis.compile(optimizer='adam', loss='binary_crossentropy')"
      ],
      "execution_count": 5,
      "outputs": [
        {
          "output_type": "stream",
          "text": [
            "Model: \"sequential\"\n",
            "_________________________________________________________________\n",
            "Layer (type)                 Output Shape              Param #   \n",
            "=================================================================\n",
            "functional_1 (Functional)    (None, 28, 28)            575120    \n",
            "_________________________________________________________________\n",
            "functional_3 (Functional)    (None, 1)                 265601    \n",
            "=================================================================\n",
            "Total params: 840,721\n",
            "Trainable params: 575,120\n",
            "Non-trainable params: 265,601\n",
            "_________________________________________________________________\n"
          ],
          "name": "stdout"
        }
      ]
    },
    {
      "cell_type": "markdown",
      "metadata": {
        "id": "gJkV2nr8jVNq",
        "colab_type": "text"
      },
      "source": [
        "### Train G-D\n",
        "\n",
        "I trained with only 500 epochs."
      ]
    },
    {
      "cell_type": "code",
      "metadata": {
        "id": "ujiQE2colTR-",
        "colab_type": "code",
        "colab": {
          "base_uri": "https://localhost:8080/",
          "height": 1000
        },
        "outputId": "faca4101-775f-4c80-846a-e90decd624f0"
      },
      "source": [
        "import matplotlib.pyplot as plt\n",
        "\n",
        "epochs = 500\n",
        "batch = x_train.shape[0]\n",
        "\n",
        "for epoch in range(epochs):\n",
        "  latent = np.random.normal(0, 1, (batch, 64))\n",
        "  gen_dis.fit(x=latent, y=np.ones(batch), verbose=0)\n",
        "\n",
        "  fake_imgs = gen.predict(latent)\n",
        "  if epoch % 100 == 0:\n",
        "    print(\"%d epoch / %d epochs\" % (epoch, epochs))\n",
        "    plt.imshow(fake_imgs[0], cmap='gray')\n",
        "    plt.show()\n",
        "\n",
        "  dis.fit(x=fake_imgs, y=np.zeros(batch), verbose=0)\n",
        "  dis.fit(x=x_train, y=np.ones(batch), verbose=0)"
      ],
      "execution_count": 6,
      "outputs": [
        {
          "output_type": "stream",
          "text": [
            "0 epoch / 500 epochs\n"
          ],
          "name": "stdout"
        },
        {
          "output_type": "display_data",
          "data": {
            "image/png": "[encoded data removed]",
            "text/plain": [
              "<Figure size 432x288 with 1 Axes>"
            ]
          },
          "metadata": {
            "tags": [],
            "needs_background": "light"
          }
        },
        {
          "output_type": "stream",
          "text": [
            "100 epoch / 500 epochs\n"
          ],
          "name": "stdout"
        },
        {
          "output_type": "display_data",
          "data": {
            "image/png": "[encoded data removed]",
            "text/plain": [
              "<Figure size 432x288 with 1 Axes>"
            ]
          },
          "metadata": {
            "tags": [],
            "needs_background": "light"
          }
        },
        {
          "output_type": "stream",
          "text": [
            "200 epoch / 500 epochs\n"
          ],
          "name": "stdout"
        },
        {
          "output_type": "display_data",
          "data": {
            "image/png": "[encoded data removed]",
            "text/plain": [
              "<Figure size 432x288 with 1 Axes>"
            ]
          },
          "metadata": {
            "tags": [],
            "needs_background": "light"
          }
        },
        {
          "output_type": "stream",
          "text": [
            "300 epoch / 500 epochs\n"
          ],
          "name": "stdout"
        },
        {
          "output_type": "display_data",
          "data": {
            "image/png": "[encoded data removed]",
            "text/plain": [
              "<Figure size 432x288 with 1 Axes>"
            ]
          },
          "metadata": {
            "tags": [],
            "needs_background": "light"
          }
        },
        {
          "output_type": "stream",
          "text": [
            "400 epoch / 500 epochs\n"
          ],
          "name": "stdout"
        },
        {
          "output_type": "display_data",
          "data": {
            "image/png": "[encoded data removed]",
            "text/plain": [
              "<Figure size 432x288 with 1 Axes>"
            ]
          },
          "metadata": {
            "tags": [],
            "needs_background": "light"
          }
        }
      ]
    },
    {
      "cell_type": "markdown",
      "metadata": {
        "id": "tNcZD40etVok",
        "colab_type": "text"
      },
      "source": [
        "### Compare two images"
      ]
    },
    {
      "cell_type": "code",
      "metadata": {
        "id": "XpkN48mMn8Yp",
        "colab_type": "code",
        "colab": {
          "base_uri": "https://localhost:8080/",
          "height": 234
        },
        "outputId": "9894cc8a-724f-4762-de10-62def0ee6246"
      },
      "source": [
        "plt.figure()\n",
        "plt.subplots(1, 2)\n",
        "\n",
        "plt.subplot(1, 2, 1)\n",
        "plt.imshow(x_train[0], cmap='gray')\n",
        "plt.subplot(1, 2, 2)\n",
        "plt.imshow(fake_imgs[0], cmap='gray')"
      ],
      "execution_count": 7,
      "outputs": [
        {
          "output_type": "execute_result",
          "data": {
            "text/plain": [
              "<matplotlib.image.AxesImage at 0x7f6018e1dcc0>"
            ]
          },
          "metadata": {
            "tags": []
          },
          "execution_count": 7
        },
        {
          "output_type": "display_data",
          "data": {
            "text/plain": [
              "<Figure size 432x288 with 0 Axes>"
            ]
          },
          "metadata": {
            "tags": []
          }
        },
        {
          "output_type": "display_data",
          "data": {
            "image/png": "[encoded data removed]",
            "text/plain": [
              "<Figure size 432x288 with 2 Axes>"
            ]
          },
          "metadata": {
            "tags": [],
            "needs_background": "light"
          }
        }
      ]
    },
    {
      "cell_type": "code",
      "metadata": {
        "id": "DBUhlFyuhj3K",
        "colab_type": "code",
        "colab": {}
      },
      "source": [
        ""
      ],
      "execution_count": 7,
      "outputs": []
    }
  ]
}