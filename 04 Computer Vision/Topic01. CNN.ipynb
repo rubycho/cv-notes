{
 "cells": [
  {
   "cell_type": "markdown",
   "metadata": {
    "collapsed": true,
    "pycharm": {
     "name": "#%% md\n"
    }
   },
   "source": [
    "## CNN with Keras, MNIST data\n",
    "\n",
    "In this file, we will see how to build simple CNN with Keras,\n",
    "and check whether it works ok."
   ]
  },
  {
   "cell_type": "code",
   "execution_count": 1,
   "metadata": {
    "pycharm": {
     "name": "#%%\n"
    }
   },
   "outputs": [
    {
     "name": "stdout",
     "output_type": "stream",
     "text": [
      "(60000, 28, 28, 1) (10000, 28, 28, 1)\n",
      "(60000, 10) (10000, 10)\n"
     ]
    }
   ],
   "source": [
    "\"\"\"\n",
    "Get MNIST data and reshape as 4d tensor.\n",
    "\"\"\"\n",
    "\n",
    "from keras.datasets import mnist\n",
    "from keras.utils.np_utils import to_categorical\n",
    "\n",
    "(x_train, y_train), (x_test, y_test) = mnist.load_data()\n",
    "\n",
    "x_train = x_train.reshape((*x_train.shape, 1))\n",
    "y_train = to_categorical(y_train)\n",
    "\n",
    "x_test = x_test.reshape((*x_test.shape, 1))\n",
    "y_test = to_categorical(y_test)\n",
    "\n",
    "print(x_train.shape, x_test.shape)\n",
    "print(y_train.shape, y_test.shape)"
   ]
  },
  {
   "cell_type": "code",
   "execution_count": 2,
   "metadata": {},
   "outputs": [
    {
     "name": "stdout",
     "output_type": "stream",
     "text": [
      "y_train[0]:  [0. 0. 0. 0. 0. 1. 0. 0. 0. 0.]\n"
     ]
    },
    {
     "data": {
      "text/plain": [
       "<matplotlib.image.AxesImage at 0x15ddfecba00>"
      ]
     },
     "execution_count": 2,
     "metadata": {},
     "output_type": "execute_result"
    },
    {
     "data": {
      "image/png": "[encoded data removed]",
      "text/plain": [
       "<Figure size 432x288 with 1 Axes>"
      ]
     },
     "metadata": {
      "needs_background": "light"
     },
     "output_type": "display_data"
    }
   ],
   "source": [
    "\"\"\"\n",
    "Check the image\n",
    "\"\"\"\n",
    "\n",
    "from matplotlib import pyplot as plt\n",
    "\n",
    "print('y_train[0]: ', y_train[0])\n",
    "plt.imshow(x_train[0].squeeze(), cmap='gray')"
   ]
  },
  {
   "cell_type": "code",
   "execution_count": 3,
   "metadata": {
    "pycharm": {
     "name": "#%%\n"
    }
   },
   "outputs": [],
   "source": [
    "\"\"\"\n",
    "Scale values on X\n",
    "\"\"\"\n",
    "\n",
    "x_train = x_train.astype('float32') / 255\n",
    "x_test = x_test.astype('float32') / 255"
   ]
  },
  {
   "cell_type": "code",
   "execution_count": 4,
   "metadata": {},
   "outputs": [
    {
     "name": "stdout",
     "output_type": "stream",
     "text": [
      "Model: \"sequential\"\n",
      "_________________________________________________________________\n",
      "Layer (type)                 Output Shape              Param #   \n",
      "=================================================================\n",
      "conv2d (Conv2D)              (None, 26, 26, 4)         40        \n",
      "_________________________________________________________________\n",
      "max_pooling2d (MaxPooling2D) (None, 13, 13, 4)         0         \n",
      "_________________________________________________________________\n",
      "conv2d_1 (Conv2D)            (None, 11, 11, 8)         296       \n",
      "_________________________________________________________________\n",
      "max_pooling2d_1 (MaxPooling2 (None, 5, 5, 8)           0         \n",
      "_________________________________________________________________\n",
      "conv2d_2 (Conv2D)            (None, 3, 3, 16)          1168      \n",
      "_________________________________________________________________\n",
      "flatten (Flatten)            (None, 144)               0         \n",
      "_________________________________________________________________\n",
      "dense (Dense)                (None, 32)                4640      \n",
      "_________________________________________________________________\n",
      "dense_1 (Dense)              (None, 10)                330       \n",
      "=================================================================\n",
      "Total params: 6,474\n",
      "Trainable params: 6,474\n",
      "Non-trainable params: 0\n",
      "_________________________________________________________________\n"
     ]
    }
   ],
   "source": [
    "\"\"\"\n",
    "Create model with Conv2D\n",
    "\n",
    "Commonly, we shrink the width, height by kernel and pooling,\n",
    "but increase the depth as it goes.\n",
    "\n",
    "After feature extraction(Conv2D, pooling...), we add Dense layer to do classification.\n",
    "\"\"\"\n",
    "\n",
    "from keras import layers\n",
    "from keras import models\n",
    "\n",
    "model = models.Sequential()\n",
    "model.add(layers.Conv2D(4, (3, 3), activation='relu', input_shape=(28, 28, 1)))\n",
    "model.add(layers.MaxPooling2D((2, 2)))\n",
    "model.add(layers.Conv2D(8, (3, 3), activation='relu'))\n",
    "model.add(layers.MaxPooling2D((2, 2)))\n",
    "model.add(layers.Conv2D(16, (3, 3), activation='relu'))\n",
    "model.add(layers.Flatten())\n",
    "model.add(layers.Dense(32, activation='relu'))\n",
    "model.add(layers.Dense(10, activation='softmax'))\n",
    "\n",
    "model.summary()"
   ]
  },
  {
   "cell_type": "markdown",
   "metadata": {},
   "source": [
    "Let's look at the summary and calculate the # of parameters.\n",
    "\n",
    "- First conv2d, will result 40, \n",
    "    cause: (1 kernel + 1 bias) * depth of 4 = (3 * 3 + 1) * 4 = 40.\n",
    "\n",
    "- Second conv2d, will result 296,\n",
    "    cause: (4 kernel + 1 bias) * depth of 8 = (3 * 3 * 4 + 1) * 8 = 296.\n",
    "\n",
    "- Third conv2d will result 1168,\n",
    "    cause: (8 kernel + 1 bias) * depth of 16 = (3 * 3 * 8 + 1) * 16 = 1169.\n",
    "\n",
    "- In dense layer, it will each result 32 * 145 = 4640, 10 * 33 = 330."
   ]
  },
  {
   "cell_type": "code",
   "execution_count": 5,
   "metadata": {},
   "outputs": [
    {
     "name": "stdout",
     "output_type": "stream",
     "text": [
      "Epoch 1/10\n",
      "844/844 [==============================] - 13s 15ms/step - loss: 0.4275 - accuracy: 0.8642 - val_loss: 0.1358 - val_accuracy: 0.9587\n",
      "Epoch 2/10\n",
      "844/844 [==============================] - 14s 16ms/step - loss: 0.1372 - accuracy: 0.9579 - val_loss: 0.0907 - val_accuracy: 0.9735\n",
      "Epoch 3/10\n",
      "844/844 [==============================] - 13s 16ms/step - loss: 0.1023 - accuracy: 0.9681 - val_loss: 0.0789 - val_accuracy: 0.9788\n",
      "Epoch 4/10\n",
      "844/844 [==============================] - 14s 17ms/step - loss: 0.0847 - accuracy: 0.9731 - val_loss: 0.0804 - val_accuracy: 0.9788\n",
      "Epoch 5/10\n",
      "844/844 [==============================] - 14s 16ms/step - loss: 0.0728 - accuracy: 0.9768 - val_loss: 0.0576 - val_accuracy: 0.9850\n",
      "Epoch 6/10\n",
      "844/844 [==============================] - 13s 15ms/step - loss: 0.0647 - accuracy: 0.9795 - val_loss: 0.0643 - val_accuracy: 0.9825\n",
      "Epoch 7/10\n",
      "844/844 [==============================] - 12s 14ms/step - loss: 0.0581 - accuracy: 0.9819 - val_loss: 0.0616 - val_accuracy: 0.9842\n",
      "Epoch 8/10\n",
      "844/844 [==============================] - 12s 14ms/step - loss: 0.0540 - accuracy: 0.9831 - val_loss: 0.0537 - val_accuracy: 0.9863\n",
      "Epoch 9/10\n",
      "844/844 [==============================] - 11s 13ms/step - loss: 0.0489 - accuracy: 0.9842 - val_loss: 0.0525 - val_accuracy: 0.9860\n",
      "Epoch 10/10\n",
      "844/844 [==============================] - 13s 15ms/step - loss: 0.0460 - accuracy: 0.9854 - val_loss: 0.0515 - val_accuracy: 0.9848\n"
     ]
    }
   ],
   "source": [
    "\"\"\"\n",
    "fit model (train) with data\n",
    "\"\"\"\n",
    "\n",
    "model.compile(\n",
    "    optimizer='adam', \n",
    "    loss='categorical_crossentropy', \n",
    "    metrics=['accuracy']\n",
    ")\n",
    "history = model.fit(\n",
    "    x_train,\n",
    "    y_train,\n",
    "    epochs=10,\n",
    "    batch_size=64,\n",
    "    validation_split=0.1\n",
    ")"
   ]
  },
  {
   "cell_type": "code",
   "execution_count": 6,
   "metadata": {},
   "outputs": [
    {
     "name": "stdout",
     "output_type": "stream",
     "text": [
      "313/313 [==============================] - 1s 4ms/step - loss: 0.0479 - accuracy: 0.9844\n",
      "Test loss:  0.047851551324129105\n",
      "Test accuracy:  0.9843999743461609\n"
     ]
    }
   ],
   "source": [
    "\"\"\"\n",
    "Evaluate with test set\n",
    "\"\"\"\n",
    "\n",
    "test_loss, test_acc = model.evaluate(x_test, y_test)\n",
    "\n",
    "print('Test loss: ', test_loss)\n",
    "print('Test accuracy: ', test_acc)"
   ]
  },
  {
   "cell_type": "code",
   "execution_count": 7,
   "metadata": {
    "scrolled": true
   },
   "outputs": [
    {
     "data": {
      "image/png": "[encoded data removed]",
      "text/plain": [
       "<Figure size 2016x2016 with 4 Axes>"
      ]
     },
     "metadata": {
      "needs_background": "light"
     },
     "output_type": "display_data"
    },
    {
     "name": "stdout",
     "output_type": "stream",
     "text": [
      "y_test[0:4]: \n",
      " [[0. 0. 0. 0. 0. 0. 0. 1. 0. 0.]\n",
      " [0. 0. 1. 0. 0. 0. 0. 0. 0. 0.]\n",
      " [0. 1. 0. 0. 0. 0. 0. 0. 0. 0.]\n",
      " [1. 0. 0. 0. 0. 0. 0. 0. 0. 0.]]\n",
      "predictions:  [7, 2, 1, 0]\n"
     ]
    }
   ],
   "source": [
    "\"\"\"\n",
    "make predictions using model\n",
    "\"\"\"\n",
    "\n",
    "import numpy as np\n",
    "\n",
    "predictions = model.predict(x_test[0:4])\n",
    "\n",
    "figure = plt.figure(figsize=(28, 28))\n",
    "for i in range(1, 5):\n",
    "    figure.add_subplot(1, 4, i)\n",
    "    plt.imshow(x_test[i-1] * 255, cmap='gray')\n",
    "plt.show()\n",
    "\n",
    "print('y_test[0:4]: \\n', y_test[0:4])\n",
    "print('predictions: ', [np.argmax(p) for p in predictions])"
   ]
  },
  {
   "cell_type": "code",
   "execution_count": null,
   "metadata": {},
   "outputs": [],
   "source": []
  }
 ],
 "metadata": {
  "kernelspec": {
   "display_name": "Python 3",
   "language": "python",
   "name": "python3"
  },
  "language_info": {
   "codemirror_mode": {
    "name": "ipython",
    "version": 3
   },
   "file_extension": ".py",
   "mimetype": "text/x-python",
   "name": "python",
   "nbconvert_exporter": "python",
   "pygments_lexer": "ipython3",
   "version": "3.8.3"
  }
 },
 "nbformat": 4,
 "nbformat_minor": 1
}
